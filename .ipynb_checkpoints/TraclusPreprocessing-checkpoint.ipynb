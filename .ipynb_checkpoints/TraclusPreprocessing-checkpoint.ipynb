{
 "cells": [
  {
   "cell_type": "code",
   "execution_count": 1,
   "metadata": {},
   "outputs": [],
   "source": [
    "import pandas\n",
    "import numpy as np\n",
    "import matplotlib.pyplot as plt\n",
    "\n",
    "from matplotlib.collections import PatchCollection\n",
    "from matplotlib.patches import Polygon\n",
    "from matplotlib import collections  as mc\n",
    "\n",
    "from sklearn.cluster import KMeans, DBSCAN\n",
    "from sklearn.preprocessing import StandardScaler\n",
    "from sklearn import metrics\n",
    "from sklearn.utils import resample\n",
    "\n",
    "from scipy.stats import mode\n"
   ]
  },
  {
   "cell_type": "markdown",
   "metadata": {},
   "source": [
    "# Load CSV"
   ]
  },
  {
   "cell_type": "code",
   "execution_count": 2,
   "metadata": {},
   "outputs": [
    {
     "name": "stderr",
     "output_type": "stream",
     "text": [
      "/Users/thanh/anaconda3/lib/python3.8/site-packages/IPython/core/interactiveshell.py:3071: DtypeWarning: Columns (0,1,2,3,4,5,6,7,8,9,10,11,12,13) have mixed types.Specify dtype option on import or set low_memory=False.\n",
      "  has_raised = await self.run_ast_nodes(code_ast.body, cell_name,\n"
     ]
    }
   ],
   "source": [
    "colnames = ['X','Z','perimeter','realSurfacePerimeter','occlusionValue','area','mean','variance','skewness','circularity_ben','circularity','centroid_x','centroid_z','inDoor']\n",
    "data = pandas.read_csv('trajectories.csv', names=colnames)\n",
    "\n",
    "x = data.X.tolist()\n",
    "y = data.Z.tolist()"
   ]
  },
  {
   "cell_type": "markdown",
   "metadata": {},
   "source": [
    "## Preprocessing"
   ]
  },
  {
   "cell_type": "code",
   "execution_count": 3,
   "metadata": {},
   "outputs": [],
   "source": [
    "def createJson():\n",
    "    '''\n",
    "    take x and y coordinates and create a JSON structure as txt file\n",
    "    \n",
    "    Parameters:\n",
    "    \n",
    "    traj_len: length of a trajectory\n",
    "    num_points: set of (x,y) coordinates\n",
    "    '''\n",
    "    \n",
    "    traj_len = 15\n",
    "    num_points = 300000\n",
    "    \n",
    "    file_object  = open(\"trajectory.txt\", \"w\") \n",
    "    params ='{\"epsilon\": 0.016, \"min_neighbors\": 2, \"min_num_trajectories_in_cluster\": 30, \"min_vertical_lines\": 2, \"min_prev_dist\": 0.002, \"trajectories\": '\n",
    "    trajectory_array = \"[[\"\n",
    "    \n",
    "    for i, (X,Y) in enumerate(zip(x, y)):\n",
    "        if i == 0:\n",
    "            continue\n",
    "            \n",
    "        if i % traj_len == 0:\n",
    "            trajectory_array += '], ['\n",
    "            \n",
    "        if i == 1 or i % traj_len == 0:\n",
    "            trajectory_array += '{\"x\": ' + str(X) + ', \"y\": ' + str(Y) + '}'\n",
    "        else:\n",
    "            trajectory_array += ', {\"x\": ' + str(X) + ', \"y\": ' + str(Y) + '}'\n",
    "            \n",
    "        if i == num_points:\n",
    "            break\n",
    "        \n",
    "    trajectory_array += \"]]\"\n",
    "    params += trajectory_array\n",
    "    params += \"}\"\n",
    "    file_object.write(params)\n",
    "    file_object.close()"
   ]
  },
  {
   "cell_type": "markdown",
   "metadata": {},
   "source": [
    "## Create txt file"
   ]
  },
  {
   "cell_type": "code",
   "execution_count": 4,
   "metadata": {},
   "outputs": [],
   "source": [
    "createJson()"
   ]
  }
 ],
 "metadata": {
  "kernelspec": {
   "display_name": "Python 3",
   "language": "python",
   "name": "python3"
  },
  "language_info": {
   "codemirror_mode": {
    "name": "ipython",
    "version": 3
   },
   "file_extension": ".py",
   "mimetype": "text/x-python",
   "name": "python",
   "nbconvert_exporter": "python",
   "pygments_lexer": "ipython3",
   "version": "3.8.3"
  }
 },
 "nbformat": 4,
 "nbformat_minor": 4
}
